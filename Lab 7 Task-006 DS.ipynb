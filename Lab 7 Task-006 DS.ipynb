{
 "cells": [
  {
   "cell_type": "code",
   "execution_count": 9,
   "metadata": {},
   "outputs": [],
   "source": [
    "from queue import PriorityQueue\n",
    "\n",
    "class Graph:\n",
    "    def __init__(self):\n",
    "        self.nodes = {}\n",
    "\n",
    "    def add_edge(self, node, neighbor, cost):\n",
    "        if node not in self.nodes:\n",
    "            self.nodes[node] = []\n",
    "        if neighbor:\n",
    "            self.nodes[node].append((neighbor, cost))\n",
    "\n",
    "def a_star(graph, start, goal, heuristic):\n",
    "    open_set = PriorityQueue()\n",
    "    open_set.put((0, start))\n",
    "    came_from = {}\n",
    "    g_score = {node: float('inf') for node in graph.nodes}\n",
    "    g_score[start] = 0\n",
    "    f_score = {node: float('inf') for node in graph.nodes}\n",
    "    f_score[start] = heuristic[start]\n",
    "\n",
    "    while not open_set.empty():\n",
    "        _, current = open_set.get()\n",
    "\n",
    "        if current == goal:\n",
    "            path = []\n",
    "            while current in came_from:\n",
    "                path.append(current)\n",
    "                current = came_from[current]\n",
    "            path.append(start)\n",
    "            path.reverse()\n",
    "            return path\n",
    "\n",
    "        for neighbor, cost in graph.nodes.get(current, []):\n",
    "            tentative_g = g_score[current] + cost\n",
    "            if tentative_g < g_score[neighbor]:\n",
    "                came_from[neighbor] = current\n",
    "                g_score[neighbor] = tentative_g\n",
    "                f_score[neighbor] = g_score[neighbor] + heuristic[neighbor]\n",
    "                open_set.put((f_score[neighbor], neighbor))\n",
    "\n",
    "    return None\n",
    "\n",
    "graph = Graph()\n",
    "graph.add_edge('A', 'B', 1)\n",
    "graph.add_edge('A', 'C', 4)\n",
    "graph.add_edge('B', 'C', 2)\n",
    "graph.add_edge('B', 'D', 5)\n",
    "graph.add_edge('C', 'D', 1)\n",
    "graph.add_edge('D', 'E', 3)\n",
    "graph.add_edge('E', '', 0)\n",
    "\n",
    "heuristic = {\n",
    "    'A': 7, \n",
    "    'B': 6, \n",
    "    'C': 2, \n",
    "    'D': 1,\n",
    "    'E': 0\n",
    "}"
   ]
  },
  {
   "cell_type": "code",
   "execution_count": null,
   "metadata": {},
   "outputs": [],
   "source": []
  }
 ],
 "metadata": {
  "kernelspec": {
   "display_name": "Python 3",
   "language": "python",
   "name": "python3"
  },
  "language_info": {
   "codemirror_mode": {
    "name": "ipython",
    "version": 3
   },
   "file_extension": ".py",
   "mimetype": "text/x-python",
   "name": "python",
   "nbconvert_exporter": "python",
   "pygments_lexer": "ipython3",
   "version": "3.12.2"
  }
 },
 "nbformat": 4,
 "nbformat_minor": 2
}
