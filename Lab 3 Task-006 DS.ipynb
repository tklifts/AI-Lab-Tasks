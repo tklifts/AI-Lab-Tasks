{
 "cells": [
  {
   "cell_type": "code",
   "execution_count": null,
   "metadata": {},
   "outputs": [],
   "source": [
    "class ModelBasedReflexAgent:\n",
    "    def __init__(self, desired_temp):\n",
    "        self.desired_temp = desired_temp  \n",
    "        self.previous_action = None       \n",
    "\n",
    "    def decide_action(self, current_temp):\n",
    "        if current_temp < self.desired_temp and self.previous_action != \"Heater ON\":\n",
    "            self.previous_action = \"Heater ON\"\n",
    "            return \"Turning Heater ON\"\n",
    "        elif current_temp > self.desired_temp and self.previous_action != \"Heater OFF\":\n",
    "            self.previous_action = \"Heater OFF\"\n",
    "            return \"Turning Heater OFF\"\n",
    "        else:\n",
    "            return \"No action needed\"\n",
    "\n",
    "\n",
    "agent = ModelBasedReflexAgent(desired_temp=22)  \n",
    "temperatures = [20, 21, 22, 23, 23, 21, 20, 22]  \n",
    "\n",
    "for temp in temperatures:\n",
    "    print(f\"Current Temperature: {temp}°C → {agent.decide_action(temp)}\")\n"
   ]
  }
 ],
 "metadata": {
  "kernelspec": {
   "display_name": "Python 3",
   "language": "python",
   "name": "python3"
  },
  "language_info": {
   "name": "python",
   "version": "3.12.2"
  }
 },
 "nbformat": 4,
 "nbformat_minor": 2
}
