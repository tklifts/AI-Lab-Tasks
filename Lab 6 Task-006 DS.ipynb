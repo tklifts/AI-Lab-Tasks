{
 "cells": [
  {
   "cell_type": "code",
   "execution_count": 1,
   "metadata": {},
   "outputs": [
    {
     "name": "stdout",
     "output_type": "stream",
     "text": [
      "BFS without Queue & Node:\n",
      "1 2 3 4 5 6 7 "
     ]
    }
   ],
   "source": [
    "#Without Queue and Node\n",
    "def bfs(graph, start):\n",
    "    visited = []\n",
    "    to_visit = [start]  \n",
    "\n",
    "    while to_visit:\n",
    "        node = to_visit.pop(0)  \n",
    "        if node not in visited:\n",
    "            visited.append(node)\n",
    "            print(node, end=\" \")\n",
    "            to_visit.extend(graph[node])  \n",
    "\n",
    "graph = {\n",
    "    '1': ['2', '3'],\n",
    "    '2': ['4', '5'],\n",
    "    '3': ['6', '7'],\n",
    "    '4': [],\n",
    "    '5': [],\n",
    "    '6': [],\n",
    "    '7': []\n",
    "}\n",
    "\n",
    "print(\"BFS without Queue & Node:\")\n",
    "bfs(graph, '1')\n"
   ]
  },
  {
   "cell_type": "code",
   "execution_count": 2,
   "metadata": {},
   "outputs": [
    {
     "name": "stdout",
     "output_type": "stream",
     "text": [
      "\n",
      "BFS with Queue & Node:\n",
      "1 2 3 4 5 6 7 "
     ]
    }
   ],
   "source": [
    "#With Queue and Node\n",
    "from collections import deque\n",
    "\n",
    "class Node:\n",
    "    def __init__(self, value):\n",
    "        self.value = value\n",
    "        self.left = None\n",
    "        self.right = None\n",
    "\n",
    "def bfs(root):\n",
    "    if not root:\n",
    "        return\n",
    "\n",
    "    queue = deque([root])  \n",
    "\n",
    "    while queue:\n",
    "        node = queue.popleft()  \n",
    "        print(node.value, end=\" \")\n",
    "\n",
    "        if node.left:\n",
    "            queue.append(node.left)  \n",
    "        if node.right:\n",
    "            queue.append(node.right)  \n",
    "\n",
    "\n",
    "root = Node(1)\n",
    "root.left = Node(2)\n",
    "root.right = Node(3)\n",
    "root.left.left = Node(4)\n",
    "root.left.right = Node(5)\n",
    "root.right.left = Node(6)\n",
    "root.right.right = Node(7)\n",
    "\n",
    "print(\"\\nBFS with Queue & Node:\")\n",
    "bfs(root)\n"
   ]
  },
  {
   "cell_type": "code",
   "execution_count": null,
   "metadata": {},
   "outputs": [],
   "source": []
  }
 ],
 "metadata": {
  "kernelspec": {
   "display_name": "Python 3",
   "language": "python",
   "name": "python3"
  },
  "language_info": {
   "codemirror_mode": {
    "name": "ipython",
    "version": 3
   },
   "file_extension": ".py",
   "mimetype": "text/x-python",
   "name": "python",
   "nbconvert_exporter": "python",
   "pygments_lexer": "ipython3",
   "version": "3.12.2"
  }
 },
 "nbformat": 4,
 "nbformat_minor": 2
}
