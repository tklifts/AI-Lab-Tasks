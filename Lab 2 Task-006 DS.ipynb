{
 "cells": [
  {
   "cell_type": "code",
   "execution_count": null,
   "metadata": {},
   "outputs": [
    {
     "name": "stdout",
     "output_type": "stream",
     "text": [
      "Welcome to the Fizz Buzz Game!\n",
      "Generated Number: 13\n"
     ]
    }
   ],
   "source": [
    "#mini project 1\n",
    "import random  \n",
    "\n",
    "print(\"Welcome to the Fizz Buzz Game!\")  \n",
    "\n",
    "attempts = 1  \n",
    "prev_number = 0  \n",
    "\n",
    "while attempts <= 5:  \n",
    "    current_number = random.randint(0, 50)  \n",
    "    total = prev_number + current_number  \n",
    "    prev_number = current_number  \n",
    "\n",
    "    print(f\"Generated Number: {current_number}\")  \n",
    "    user_guess = input(\"Your guess (Fizz, Buzz, or FizzBuzz): \").strip().lower()  \n",
    "\n",
    "    if user_guess == \"fizzbuzz\" and total % 3 == 0 and total % 5 == 0:  \n",
    "        print(\"Great job! You got it right!\")  \n",
    "    elif user_guess == \"fizz\" and total % 3 == 0:  \n",
    "        print(\"Correct! It's Fizz!\")  \n",
    "    elif user_guess == \"buzz\" and total % 5 == 0:  \n",
    "        print(\"Nice! You guessed Buzz correctly!\")  \n",
    "    else:  \n",
    "        print(\"Oops! Wrong guess.\")  \n",
    "\n",
    "    attempts += 1  \n",
    "\n",
    "print(\"Game Over! Thanks for playing!\")  \n"
   ]
  },
  {
   "cell_type": "code",
   "execution_count": null,
   "metadata": {},
   "outputs": [],
   "source": [
    "#mini project 2\n",
    "# List of movies with their budgets\n",
    "movies = [\n",
    "    (\"Eternal Sunshine of the Spotless Mind\", 20000000),\n",
    "    (\"Memento\", 9000000),\n",
    "    (\"Requiem for a Dream\", 4500000),\n",
    "    (\"Pirates of the Caribbean: On Stranger Tides\", 379000000),\n",
    "    (\"Avengers: Age of Ultron\", 365000000),\n",
    "    (\"Avengers: Endgame\", 356000000),\n",
    "    (\"Incredibles 2\", 200000000)\n",
    "]\n",
    "\n",
    "def add_movies():\n",
    "    \"\"\"Function to allow the user to add new movies to the list.\"\"\"\n",
    "    num_movies = int(input(\"How many movies would you like to add? \"))\n",
    "    \n",
    "    for _ in range(num_movies):\n",
    "        movie_name = input(\"Enter movie name: \")\n",
    "        movie_budget = int(input(\"Enter movie budget: \"))\n",
    "        movies.append((movie_name, movie_budget))\n",
    "        print(f\"'{movie_name}' added successfully with a budget of ${movie_budget}.\")\n",
    "\n",
    "# Call function to add new movies\n",
    "add_movies()\n",
    "\n",
    "# Calculate total budget and average budget\n",
    "total_budget = sum(budget for _, budget in movies)\n",
    "average_budget = total_budget / len(movies)\n",
    "\n",
    "print(f\"\\nTotal Budget: ${total_budget}\")\n",
    "print(f\"Average Budget: ${average_budget:.2f}\\n\")\n",
    "\n",
    "# Count and display movies with budgets above the average\n",
    "above_average_count = 0\n",
    "\n",
    "for movie, budget in movies:\n",
    "    if budget > average_budget:\n",
    "        diff = budget - average_budget\n",
    "        above_average_count += 1\n",
    "        print(f\"{movie} exceeds the average budget by ${diff}.\")\n",
    "\n",
    "print(f\"\\nTotal number of movies above average budget: {above_average_count}\")\n"
   ]
  },
  {
   "cell_type": "code",
   "execution_count": null,
   "metadata": {},
   "outputs": [],
   "source": []
  }
 ],
 "metadata": {
  "kernelspec": {
   "display_name": "Python 3",
   "language": "python",
   "name": "python3"
  },
  "language_info": {
   "codemirror_mode": {
    "name": "ipython",
    "version": 3
   },
   "file_extension": ".py",
   "mimetype": "text/x-python",
   "name": "python",
   "nbconvert_exporter": "python",
   "pygments_lexer": "ipython3",
   "version": "3.12.2"
  }
 },
 "nbformat": 4,
 "nbformat_minor": 2
}
