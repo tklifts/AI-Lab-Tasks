{
 "cells": [
  {
   "cell_type": "code",
   "execution_count": 1,
   "metadata": {},
   "outputs": [
    {
     "name": "stdout",
     "output_type": "stream",
     "text": [
      "Valid Card!\n"
     ]
    }
   ],
   "source": [
    "#LUHN algorithm\n",
    "def luhn_check(card_number):\n",
    "    card_number = card_number.replace(\" \", \"\")  \n",
    "    total_sum = 0\n",
    "    reverse_digits = card_number[::-1]  \n",
    "\n",
    "    for i, digit in enumerate(reverse_digits):\n",
    "        num = int(digit)\n",
    "        if i % 2 == 1:  \n",
    "            num *= 2\n",
    "            if num > 9: \n",
    "                num -= 9\n",
    "        total_sum += num\n",
    "\n",
    "    return total_sum % 10 == 0  \n",
    "\n",
    "\n",
    "card = input(\"Enter your card number: \")\n",
    "if luhn_check(card):\n",
    "    print(\"Valid Card!\")\n",
    "else:\n",
    "    print(\"Invalid Card!\")\n"
   ]
  },
  {
   "cell_type": "code",
   "execution_count": null,
   "metadata": {},
   "outputs": [],
   "source": [
    "#Remive Punctuation \n",
    "import string\n",
    "\n",
    "def remove_punctuation(text):\n",
    "    clean_text = \"\".join(char for char in text if char not in string.punctuation)\n",
    "    return clean_text\n",
    "\n",
    "\n",
    "sentence = input(\"Enter a sentence: \")\n",
    "result = remove_punctuation(sentence)\n",
    "print(\"Sentence without punctuation:\", result)\n"
   ]
  },
  {
   "cell_type": "code",
   "execution_count": null,
   "metadata": {},
   "outputs": [],
   "source": [
    "#Sort words\n",
    "def sort_sentence(sentence):\n",
    "    words = sentence.split()  \n",
    "    words.sort()  \n",
    "    return \" \".join(words)  \n",
    "\n",
    "\n",
    "sentence = input(\"Enter a sentence: \")\n",
    "sorted_sentence = sort_sentence(sentence)\n",
    "print(\"Sorted Sentence:\", sorted_sentence)\n",
    "\n"
   ]
  },
  {
   "cell_type": "code",
   "execution_count": null,
   "metadata": {},
   "outputs": [],
   "source": []
  }
 ],
 "metadata": {
  "kernelspec": {
   "display_name": "Python 3",
   "language": "python",
   "name": "python3"
  },
  "language_info": {
   "codemirror_mode": {
    "name": "ipython",
    "version": 3
   },
   "file_extension": ".py",
   "mimetype": "text/x-python",
   "name": "python",
   "nbconvert_exporter": "python",
   "pygments_lexer": "ipython3",
   "version": "3.12.2"
  }
 },
 "nbformat": 4,
 "nbformat_minor": 2
}
