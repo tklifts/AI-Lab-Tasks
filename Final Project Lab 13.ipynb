{
 "cells": [
  {
   "cell_type": "code",
   "execution_count": 1,
   "id": "dadd52d8",
   "metadata": {},
   "outputs": [],
   "source": [
    "import pandas as pd\n",
    "import numpy as np"
   ]
  },
  {
   "cell_type": "code",
   "execution_count": 2,
   "id": "7487c086",
   "metadata": {},
   "outputs": [
    {
     "data": {
      "application/vnd.microsoft.datawrangler.viewer.v0+json": {
       "columns": [
        {
         "name": "index",
         "rawType": "int64",
         "type": "integer"
        },
        {
         "name": "Food",
         "rawType": "object",
         "type": "string"
        },
        {
         "name": "Serving",
         "rawType": "object",
         "type": "string"
        },
        {
         "name": "Calories",
         "rawType": "object",
         "type": "string"
        }
       ],
       "conversionMethod": "pd.DataFrame",
       "ref": "a846f023-b182-4b74-a8e1-32bbb6b9ca41",
       "rows": [
        [
         "0",
         "Artichoke",
         "1 artichoke (128 g)",
         "60 cal"
        ],
        [
         "1",
         "Arugula",
         "1 leaf (2 g)",
         "1 cal"
        ],
        [
         "2",
         "Asparagus",
         "1 spear (12 g)",
         "2 cal"
        ],
        [
         "3",
         "Aubergine",
         "1 aubergine (458 g)",
         "115 cal"
        ],
        [
         "4",
         "Beetroot",
         "1 beet (82 g)",
         "35 cal"
        ],
        [
         "5",
         "Bell Pepper",
         "1 pepper (73 g)",
         "15 cal"
        ],
        [
         "6",
         "Black Olives",
         "1 olive (2.7 g)",
         "2 cal"
        ],
        [
         "7",
         "Broccoli",
         "1 bunch (608 g)",
         "207 cal"
        ],
        [
         "8",
         "Brussels Sprouts",
         "1 sprout (19 g)",
         "8 cal"
        ],
        [
         "9",
         "Cabbage",
         "1 head (908 g)",
         "227 cal"
        ],
        [
         "10",
         "Capsicum",
         "1 pepper (45 g)",
         "12 cal"
        ],
        [
         "11",
         "Carrot",
         "1 carrot (61 g)",
         "25 cal"
        ],
        [
         "12",
         "Cauliflower",
         "1 floweret (13 g)",
         "3 cal"
        ],
        [
         "13",
         "Celery",
         "1 stalk (40 g)",
         "6 cal"
        ],
        [
         "14",
         "Chard",
         "1 leaf (48 g)",
         "9 cal"
        ],
        [
         "15",
         "Cherry Tomato",
         "1 cherry tomato (20 g)",
         "20 cal"
        ],
        [
         "16",
         "Chicory",
         "1 head (53 g)",
         "38 cal"
        ],
        [
         "17",
         "Chinese Cabbage",
         "1 head (840 g)",
         "134 cal"
        ],
        [
         "18",
         "Chives",
         "1 tbsp, chopped (3 g)",
         "1 cal"
        ],
        [
         "19",
         "Collard Greens",
         "1 cup, raw (36 g)",
         "12 cal"
        ],
        [
         "20",
         "Corn",
         "1 cup (154 g)",
         "562 cal"
        ],
        [
         "21",
         "Courgette",
         "1 courgette (196 g)",
         "33 cal"
        ],
        [
         "22",
         "Creamed Spinach",
         "1 cup (200 g)",
         "148 cal"
        ],
        [
         "23",
         "Cucumber",
         "1 cucumber (410 g)",
         "66 cal"
        ],
        [
         "24",
         "Eggplant",
         "1 eggplant (458 g)",
         "115 cal"
        ],
        [
         "25",
         "Endive",
         "1 head (513 g)",
         "87 cal"
        ],
        [
         "26",
         "Fennel",
         "1 bulb (234 g)",
         "73 cal"
        ],
        [
         "27",
         "Garlic",
         "1 clove (3 g)",
         "4 cal"
        ],
        [
         "28",
         "Gherkin",
         "1 gherkin (65 g)",
         "9 cal"
        ],
        [
         "29",
         "Gourd",
         "1 gourd (771 g)",
         "108 cal"
        ],
        [
         "30",
         "Green Beans",
         "1 cup (110 g)",
         "34 cal"
        ],
        [
         "31",
         "Green Olives",
         "1 olive (2.7 g)",
         "2 cal"
        ],
        [
         "32",
         "Green Onion",
         "1 green onion (15 g)",
         "5 cal"
        ],
        [
         "33",
         "Horseradish",
         "1 tbsp (15 g)",
         "7 cal"
        ],
        [
         "34",
         "Kale",
         "1 cup, chopped (67 g)",
         "33 cal"
        ],
        [
         "35",
         "Kohlrabi",
         "1 kohlrabi (400 g)",
         "108 cal"
        ],
        [
         "36",
         "Kumara",
         "1 kumara (130 g)",
         "112 cal"
        ],
        [
         "37",
         "Leek",
         "1 leek (89 g)",
         "54 cal"
        ],
        [
         "38",
         "Lettuce",
         "1 head (600 g)",
         "90 cal"
        ],
        [
         "39",
         "Mushrooms",
         "1 mushroom (5.4 g)",
         "1 cal"
        ],
        [
         "40",
         "Mustard Greens",
         "1 cup, chopped (56 g)",
         "15 cal"
        ],
        [
         "41",
         "Nori",
         "1 sheet (2.6 g)",
         "1 cal"
        ],
        [
         "42",
         "Okra",
         "1 pod (12 g)",
         "4 cal"
        ],
        [
         "43",
         "Olives",
         "1 olive (2.7 g)",
         "2 cal"
        ],
        [
         "44",
         "Onion",
         "1 onion (85 g)",
         "34 cal"
        ],
        [
         "45",
         "Parsnips",
         "1 parsnip (170 g)",
         "128 cal"
        ],
        [
         "46",
         "Peas",
         "1 cup (98 g)",
         "79 cal"
        ],
        [
         "47",
         "Pepper",
         "1 pepper (75 g)",
         "20 cal"
        ],
        [
         "48",
         "Potato",
         "1 potato (213 g)",
         "164 cal"
        ],
        [
         "49",
         "Pumpkin",
         "1 pumpkin (196 g)",
         "51 cal"
        ]
       ],
       "shape": {
        "columns": 3,
        "rows": 562
       }
      },
      "text/html": [
       "<div>\n",
       "<style scoped>\n",
       "    .dataframe tbody tr th:only-of-type {\n",
       "        vertical-align: middle;\n",
       "    }\n",
       "\n",
       "    .dataframe tbody tr th {\n",
       "        vertical-align: top;\n",
       "    }\n",
       "\n",
       "    .dataframe thead th {\n",
       "        text-align: right;\n",
       "    }\n",
       "</style>\n",
       "<table border=\"1\" class=\"dataframe\">\n",
       "  <thead>\n",
       "    <tr style=\"text-align: right;\">\n",
       "      <th></th>\n",
       "      <th>Food</th>\n",
       "      <th>Serving</th>\n",
       "      <th>Calories</th>\n",
       "    </tr>\n",
       "  </thead>\n",
       "  <tbody>\n",
       "    <tr>\n",
       "      <th>0</th>\n",
       "      <td>Artichoke</td>\n",
       "      <td>1 artichoke (128 g)</td>\n",
       "      <td>60 cal</td>\n",
       "    </tr>\n",
       "    <tr>\n",
       "      <th>1</th>\n",
       "      <td>Arugula</td>\n",
       "      <td>1 leaf (2 g)</td>\n",
       "      <td>1 cal</td>\n",
       "    </tr>\n",
       "    <tr>\n",
       "      <th>2</th>\n",
       "      <td>Asparagus</td>\n",
       "      <td>1 spear (12 g)</td>\n",
       "      <td>2 cal</td>\n",
       "    </tr>\n",
       "    <tr>\n",
       "      <th>3</th>\n",
       "      <td>Aubergine</td>\n",
       "      <td>1 aubergine (458 g)</td>\n",
       "      <td>115 cal</td>\n",
       "    </tr>\n",
       "    <tr>\n",
       "      <th>4</th>\n",
       "      <td>Beetroot</td>\n",
       "      <td>1 beet (82 g)</td>\n",
       "      <td>35 cal</td>\n",
       "    </tr>\n",
       "    <tr>\n",
       "      <th>...</th>\n",
       "      <td>...</td>\n",
       "      <td>...</td>\n",
       "      <td>...</td>\n",
       "    </tr>\n",
       "    <tr>\n",
       "      <th>557</th>\n",
       "      <td>Wendy’s Jr. Cheeseburger</td>\n",
       "      <td>1 burger (129 g)</td>\n",
       "      <td>290 cal</td>\n",
       "    </tr>\n",
       "    <tr>\n",
       "      <th>558</th>\n",
       "      <td>Wendy’s Son of Baconator</td>\n",
       "      <td>1 burger (218 g)</td>\n",
       "      <td>700 cal</td>\n",
       "    </tr>\n",
       "    <tr>\n",
       "      <th>559</th>\n",
       "      <td>Whopper</td>\n",
       "      <td>1 burger (291 g)</td>\n",
       "      <td>672 cal</td>\n",
       "    </tr>\n",
       "    <tr>\n",
       "      <th>560</th>\n",
       "      <td>Zinger</td>\n",
       "      <td>1 sandwich (202 g)</td>\n",
       "      <td>517 cal</td>\n",
       "    </tr>\n",
       "    <tr>\n",
       "      <th>561</th>\n",
       "      <td>Zinger Burger</td>\n",
       "      <td>1 sandwich (202 g)</td>\n",
       "      <td>517 cal</td>\n",
       "    </tr>\n",
       "  </tbody>\n",
       "</table>\n",
       "<p>562 rows × 3 columns</p>\n",
       "</div>"
      ],
      "text/plain": [
       "                         Food              Serving Calories\n",
       "0                   Artichoke  1 artichoke (128 g)   60 cal\n",
       "1                     Arugula         1 leaf (2 g)    1 cal\n",
       "2                   Asparagus       1 spear (12 g)    2 cal\n",
       "3                   Aubergine  1 aubergine (458 g)  115 cal\n",
       "4                    Beetroot        1 beet (82 g)   35 cal\n",
       "..                        ...                  ...      ...\n",
       "557  Wendy’s Jr. Cheeseburger     1 burger (129 g)  290 cal\n",
       "558  Wendy’s Son of Baconator     1 burger (218 g)  700 cal\n",
       "559                   Whopper     1 burger (291 g)  672 cal\n",
       "560                    Zinger   1 sandwich (202 g)  517 cal\n",
       "561             Zinger Burger   1 sandwich (202 g)  517 cal\n",
       "\n",
       "[562 rows x 3 columns]"
      ]
     },
     "execution_count": 2,
     "metadata": {},
     "output_type": "execute_result"
    }
   ],
   "source": [
    "df = pd.read_csv(\"Food and Calories.csv\")\n",
    "df"
   ]
  },
  {
   "cell_type": "code",
   "execution_count": 3,
   "id": "c209af0d",
   "metadata": {},
   "outputs": [
    {
     "data": {
      "application/vnd.microsoft.datawrangler.viewer.v0+json": {
       "columns": [
        {
         "name": "index",
         "rawType": "int64",
         "type": "integer"
        },
        {
         "name": "Food",
         "rawType": "object",
         "type": "string"
        },
        {
         "name": "Serving",
         "rawType": "object",
         "type": "string"
        },
        {
         "name": "Calories",
         "rawType": "object",
         "type": "string"
        }
       ],
       "conversionMethod": "pd.DataFrame",
       "ref": "f363d4df-19cd-4702-a776-59e997e0a366",
       "rows": [
        [
         "0",
         "Artichoke",
         "1 artichoke (128 g)",
         "60 cal"
        ],
        [
         "1",
         "Arugula",
         "1 leaf (2 g)",
         "1 cal"
        ],
        [
         "2",
         "Asparagus",
         "1 spear (12 g)",
         "2 cal"
        ],
        [
         "3",
         "Aubergine",
         "1 aubergine (458 g)",
         "115 cal"
        ],
        [
         "4",
         "Beetroot",
         "1 beet (82 g)",
         "35 cal"
        ],
        [
         "5",
         "Bell Pepper",
         "1 pepper (73 g)",
         "15 cal"
        ],
        [
         "6",
         "Black Olives",
         "1 olive (2.7 g)",
         "2 cal"
        ],
        [
         "7",
         "Broccoli",
         "1 bunch (608 g)",
         "207 cal"
        ],
        [
         "8",
         "Brussels Sprouts",
         "1 sprout (19 g)",
         "8 cal"
        ],
        [
         "9",
         "Cabbage",
         "1 head (908 g)",
         "227 cal"
        ],
        [
         "10",
         "Capsicum",
         "1 pepper (45 g)",
         "12 cal"
        ],
        [
         "11",
         "Carrot",
         "1 carrot (61 g)",
         "25 cal"
        ],
        [
         "12",
         "Cauliflower",
         "1 floweret (13 g)",
         "3 cal"
        ],
        [
         "13",
         "Celery",
         "1 stalk (40 g)",
         "6 cal"
        ],
        [
         "14",
         "Chard",
         "1 leaf (48 g)",
         "9 cal"
        ],
        [
         "15",
         "Cherry Tomato",
         "1 cherry tomato (20 g)",
         "20 cal"
        ],
        [
         "16",
         "Chicory",
         "1 head (53 g)",
         "38 cal"
        ],
        [
         "17",
         "Chinese Cabbage",
         "1 head (840 g)",
         "134 cal"
        ],
        [
         "18",
         "Chives",
         "1 tbsp, chopped (3 g)",
         "1 cal"
        ],
        [
         "19",
         "Collard Greens",
         "1 cup, raw (36 g)",
         "12 cal"
        ],
        [
         "20",
         "Corn",
         "1 cup (154 g)",
         "562 cal"
        ],
        [
         "21",
         "Courgette",
         "1 courgette (196 g)",
         "33 cal"
        ],
        [
         "22",
         "Creamed Spinach",
         "1 cup (200 g)",
         "148 cal"
        ],
        [
         "23",
         "Cucumber",
         "1 cucumber (410 g)",
         "66 cal"
        ],
        [
         "24",
         "Eggplant",
         "1 eggplant (458 g)",
         "115 cal"
        ],
        [
         "25",
         "Endive",
         "1 head (513 g)",
         "87 cal"
        ],
        [
         "26",
         "Fennel",
         "1 bulb (234 g)",
         "73 cal"
        ],
        [
         "27",
         "Garlic",
         "1 clove (3 g)",
         "4 cal"
        ],
        [
         "28",
         "Gherkin",
         "1 gherkin (65 g)",
         "9 cal"
        ],
        [
         "29",
         "Gourd",
         "1 gourd (771 g)",
         "108 cal"
        ],
        [
         "30",
         "Green Beans",
         "1 cup (110 g)",
         "34 cal"
        ],
        [
         "31",
         "Green Olives",
         "1 olive (2.7 g)",
         "2 cal"
        ],
        [
         "32",
         "Green Onion",
         "1 green onion (15 g)",
         "5 cal"
        ],
        [
         "33",
         "Horseradish",
         "1 tbsp (15 g)",
         "7 cal"
        ],
        [
         "34",
         "Kale",
         "1 cup, chopped (67 g)",
         "33 cal"
        ],
        [
         "35",
         "Kohlrabi",
         "1 kohlrabi (400 g)",
         "108 cal"
        ],
        [
         "36",
         "Kumara",
         "1 kumara (130 g)",
         "112 cal"
        ],
        [
         "37",
         "Leek",
         "1 leek (89 g)",
         "54 cal"
        ],
        [
         "38",
         "Lettuce",
         "1 head (600 g)",
         "90 cal"
        ],
        [
         "39",
         "Mushrooms",
         "1 mushroom (5.4 g)",
         "1 cal"
        ],
        [
         "40",
         "Mustard Greens",
         "1 cup, chopped (56 g)",
         "15 cal"
        ],
        [
         "41",
         "Nori",
         "1 sheet (2.6 g)",
         "1 cal"
        ],
        [
         "42",
         "Okra",
         "1 pod (12 g)",
         "4 cal"
        ],
        [
         "43",
         "Olives",
         "1 olive (2.7 g)",
         "2 cal"
        ],
        [
         "44",
         "Onion",
         "1 onion (85 g)",
         "34 cal"
        ],
        [
         "45",
         "Parsnips",
         "1 parsnip (170 g)",
         "128 cal"
        ],
        [
         "46",
         "Peas",
         "1 cup (98 g)",
         "79 cal"
        ],
        [
         "47",
         "Pepper",
         "1 pepper (75 g)",
         "20 cal"
        ],
        [
         "48",
         "Potato",
         "1 potato (213 g)",
         "164 cal"
        ],
        [
         "49",
         "Pumpkin",
         "1 pumpkin (196 g)",
         "51 cal"
        ]
       ],
       "shape": {
        "columns": 3,
        "rows": 562
       }
      },
      "text/html": [
       "<div>\n",
       "<style scoped>\n",
       "    .dataframe tbody tr th:only-of-type {\n",
       "        vertical-align: middle;\n",
       "    }\n",
       "\n",
       "    .dataframe tbody tr th {\n",
       "        vertical-align: top;\n",
       "    }\n",
       "\n",
       "    .dataframe thead th {\n",
       "        text-align: right;\n",
       "    }\n",
       "</style>\n",
       "<table border=\"1\" class=\"dataframe\">\n",
       "  <thead>\n",
       "    <tr style=\"text-align: right;\">\n",
       "      <th></th>\n",
       "      <th>Food</th>\n",
       "      <th>Serving</th>\n",
       "      <th>Calories</th>\n",
       "    </tr>\n",
       "  </thead>\n",
       "  <tbody>\n",
       "    <tr>\n",
       "      <th>0</th>\n",
       "      <td>Artichoke</td>\n",
       "      <td>1 artichoke (128 g)</td>\n",
       "      <td>60 cal</td>\n",
       "    </tr>\n",
       "    <tr>\n",
       "      <th>1</th>\n",
       "      <td>Arugula</td>\n",
       "      <td>1 leaf (2 g)</td>\n",
       "      <td>1 cal</td>\n",
       "    </tr>\n",
       "    <tr>\n",
       "      <th>2</th>\n",
       "      <td>Asparagus</td>\n",
       "      <td>1 spear (12 g)</td>\n",
       "      <td>2 cal</td>\n",
       "    </tr>\n",
       "    <tr>\n",
       "      <th>3</th>\n",
       "      <td>Aubergine</td>\n",
       "      <td>1 aubergine (458 g)</td>\n",
       "      <td>115 cal</td>\n",
       "    </tr>\n",
       "    <tr>\n",
       "      <th>4</th>\n",
       "      <td>Beetroot</td>\n",
       "      <td>1 beet (82 g)</td>\n",
       "      <td>35 cal</td>\n",
       "    </tr>\n",
       "    <tr>\n",
       "      <th>...</th>\n",
       "      <td>...</td>\n",
       "      <td>...</td>\n",
       "      <td>...</td>\n",
       "    </tr>\n",
       "    <tr>\n",
       "      <th>557</th>\n",
       "      <td>Wendy’s Jr. Cheeseburger</td>\n",
       "      <td>1 burger (129 g)</td>\n",
       "      <td>290 cal</td>\n",
       "    </tr>\n",
       "    <tr>\n",
       "      <th>558</th>\n",
       "      <td>Wendy’s Son of Baconator</td>\n",
       "      <td>1 burger (218 g)</td>\n",
       "      <td>700 cal</td>\n",
       "    </tr>\n",
       "    <tr>\n",
       "      <th>559</th>\n",
       "      <td>Whopper</td>\n",
       "      <td>1 burger (291 g)</td>\n",
       "      <td>672 cal</td>\n",
       "    </tr>\n",
       "    <tr>\n",
       "      <th>560</th>\n",
       "      <td>Zinger</td>\n",
       "      <td>1 sandwich (202 g)</td>\n",
       "      <td>517 cal</td>\n",
       "    </tr>\n",
       "    <tr>\n",
       "      <th>561</th>\n",
       "      <td>Zinger Burger</td>\n",
       "      <td>1 sandwich (202 g)</td>\n",
       "      <td>517 cal</td>\n",
       "    </tr>\n",
       "  </tbody>\n",
       "</table>\n",
       "<p>562 rows × 3 columns</p>\n",
       "</div>"
      ],
      "text/plain": [
       "                         Food              Serving Calories\n",
       "0                   Artichoke  1 artichoke (128 g)   60 cal\n",
       "1                     Arugula         1 leaf (2 g)    1 cal\n",
       "2                   Asparagus       1 spear (12 g)    2 cal\n",
       "3                   Aubergine  1 aubergine (458 g)  115 cal\n",
       "4                    Beetroot        1 beet (82 g)   35 cal\n",
       "..                        ...                  ...      ...\n",
       "557  Wendy’s Jr. Cheeseburger     1 burger (129 g)  290 cal\n",
       "558  Wendy’s Son of Baconator     1 burger (218 g)  700 cal\n",
       "559                   Whopper     1 burger (291 g)  672 cal\n",
       "560                    Zinger   1 sandwich (202 g)  517 cal\n",
       "561             Zinger Burger   1 sandwich (202 g)  517 cal\n",
       "\n",
       "[562 rows x 3 columns]"
      ]
     },
     "execution_count": 3,
     "metadata": {},
     "output_type": "execute_result"
    }
   ],
   "source": [
    "df = df.dropna(subset=[\"Serving\", \"Calories\", \"Food\"])\n",
    "df"
   ]
  },
  {
   "cell_type": "code",
   "execution_count": 4,
   "id": "413598cf",
   "metadata": {},
   "outputs": [
    {
     "name": "stderr",
     "output_type": "stream",
     "text": [
      "C:\\Users\\abdul\\AppData\\Local\\Temp\\ipykernel_14132\\3925702729.py:9: SettingWithCopyWarning: \n",
      "A value is trying to be set on a copy of a slice from a DataFrame.\n",
      "Try using .loc[row_indexer,col_indexer] = value instead\n",
      "\n",
      "See the caveats in the documentation: https://pandas.pydata.org/pandas-docs/stable/user_guide/indexing.html#returning-a-view-versus-a-copy\n",
      "  df['Calories'] = df['Calories'].astype(str).str.extract(r'(\\d+\\.?\\d*)').astype(float)\n"
     ]
    },
    {
     "data": {
      "application/vnd.microsoft.datawrangler.viewer.v0+json": {
       "columns": [
        {
         "name": "index",
         "rawType": "int64",
         "type": "integer"
        },
        {
         "name": "Food",
         "rawType": "object",
         "type": "string"
        },
        {
         "name": "Serving",
         "rawType": "object",
         "type": "string"
        },
        {
         "name": "Calories",
         "rawType": "float64",
         "type": "float"
        },
        {
         "name": "Grams",
         "rawType": "float64",
         "type": "float"
        }
       ],
       "conversionMethod": "pd.DataFrame",
       "ref": "c370667c-421c-4f78-b41f-751a514ffcc8",
       "rows": [
        [
         "0",
         "Artichoke",
         "1 artichoke (128 g)",
         "60.0",
         "128.0"
        ],
        [
         "1",
         "Arugula",
         "1 leaf (2 g)",
         "1.0",
         "2.0"
        ],
        [
         "2",
         "Asparagus",
         "1 spear (12 g)",
         "2.0",
         "12.0"
        ],
        [
         "3",
         "Aubergine",
         "1 aubergine (458 g)",
         "115.0",
         "458.0"
        ],
        [
         "4",
         "Beetroot",
         "1 beet (82 g)",
         "35.0",
         "82.0"
        ],
        [
         "5",
         "Bell Pepper",
         "1 pepper (73 g)",
         "15.0",
         "73.0"
        ],
        [
         "6",
         "Black Olives",
         "1 olive (2.7 g)",
         "2.0",
         "2.7"
        ],
        [
         "7",
         "Broccoli",
         "1 bunch (608 g)",
         "207.0",
         "608.0"
        ],
        [
         "8",
         "Brussels Sprouts",
         "1 sprout (19 g)",
         "8.0",
         "19.0"
        ],
        [
         "9",
         "Cabbage",
         "1 head (908 g)",
         "227.0",
         "908.0"
        ],
        [
         "10",
         "Capsicum",
         "1 pepper (45 g)",
         "12.0",
         "45.0"
        ],
        [
         "11",
         "Carrot",
         "1 carrot (61 g)",
         "25.0",
         "61.0"
        ],
        [
         "12",
         "Cauliflower",
         "1 floweret (13 g)",
         "3.0",
         "13.0"
        ],
        [
         "13",
         "Celery",
         "1 stalk (40 g)",
         "6.0",
         "40.0"
        ],
        [
         "14",
         "Chard",
         "1 leaf (48 g)",
         "9.0",
         "48.0"
        ],
        [
         "15",
         "Cherry Tomato",
         "1 cherry tomato (20 g)",
         "20.0",
         "20.0"
        ],
        [
         "16",
         "Chicory",
         "1 head (53 g)",
         "38.0",
         "53.0"
        ],
        [
         "17",
         "Chinese Cabbage",
         "1 head (840 g)",
         "134.0",
         "840.0"
        ],
        [
         "18",
         "Chives",
         "1 tbsp, chopped (3 g)",
         "1.0",
         "3.0"
        ],
        [
         "19",
         "Collard Greens",
         "1 cup, raw (36 g)",
         "12.0",
         "36.0"
        ],
        [
         "20",
         "Corn",
         "1 cup (154 g)",
         "562.0",
         "154.0"
        ],
        [
         "21",
         "Courgette",
         "1 courgette (196 g)",
         "33.0",
         "196.0"
        ],
        [
         "22",
         "Creamed Spinach",
         "1 cup (200 g)",
         "148.0",
         "200.0"
        ],
        [
         "23",
         "Cucumber",
         "1 cucumber (410 g)",
         "66.0",
         "410.0"
        ],
        [
         "24",
         "Eggplant",
         "1 eggplant (458 g)",
         "115.0",
         "458.0"
        ],
        [
         "25",
         "Endive",
         "1 head (513 g)",
         "87.0",
         "513.0"
        ],
        [
         "26",
         "Fennel",
         "1 bulb (234 g)",
         "73.0",
         "234.0"
        ],
        [
         "27",
         "Garlic",
         "1 clove (3 g)",
         "4.0",
         "3.0"
        ],
        [
         "28",
         "Gherkin",
         "1 gherkin (65 g)",
         "9.0",
         "1.0"
        ],
        [
         "29",
         "Gourd",
         "1 gourd (771 g)",
         "108.0",
         "1.0"
        ],
        [
         "30",
         "Green Beans",
         "1 cup (110 g)",
         "34.0",
         "110.0"
        ],
        [
         "31",
         "Green Olives",
         "1 olive (2.7 g)",
         "2.0",
         "2.7"
        ],
        [
         "32",
         "Green Onion",
         "1 green onion (15 g)",
         "5.0",
         "1.0"
        ],
        [
         "33",
         "Horseradish",
         "1 tbsp (15 g)",
         "7.0",
         "15.0"
        ],
        [
         "34",
         "Kale",
         "1 cup, chopped (67 g)",
         "33.0",
         "67.0"
        ],
        [
         "35",
         "Kohlrabi",
         "1 kohlrabi (400 g)",
         "108.0",
         "400.0"
        ],
        [
         "36",
         "Kumara",
         "1 kumara (130 g)",
         "112.0",
         "130.0"
        ],
        [
         "37",
         "Leek",
         "1 leek (89 g)",
         "54.0",
         "89.0"
        ],
        [
         "38",
         "Lettuce",
         "1 head (600 g)",
         "90.0",
         "600.0"
        ],
        [
         "39",
         "Mushrooms",
         "1 mushroom (5.4 g)",
         "1.0",
         "5.4"
        ],
        [
         "40",
         "Mustard Greens",
         "1 cup, chopped (56 g)",
         "15.0",
         "56.0"
        ],
        [
         "41",
         "Nori",
         "1 sheet (2.6 g)",
         "1.0",
         "2.6"
        ],
        [
         "42",
         "Okra",
         "1 pod (12 g)",
         "4.0",
         "12.0"
        ],
        [
         "43",
         "Olives",
         "1 olive (2.7 g)",
         "2.0",
         "2.7"
        ],
        [
         "44",
         "Onion",
         "1 onion (85 g)",
         "34.0",
         "85.0"
        ],
        [
         "45",
         "Parsnips",
         "1 parsnip (170 g)",
         "128.0",
         "170.0"
        ],
        [
         "46",
         "Peas",
         "1 cup (98 g)",
         "79.0",
         "98.0"
        ],
        [
         "47",
         "Pepper",
         "1 pepper (75 g)",
         "20.0",
         "75.0"
        ],
        [
         "48",
         "Potato",
         "1 potato (213 g)",
         "164.0",
         "213.0"
        ],
        [
         "49",
         "Pumpkin",
         "1 pumpkin (196 g)",
         "51.0",
         "196.0"
        ]
       ],
       "shape": {
        "columns": 4,
        "rows": 529
       }
      },
      "text/html": [
       "<div>\n",
       "<style scoped>\n",
       "    .dataframe tbody tr th:only-of-type {\n",
       "        vertical-align: middle;\n",
       "    }\n",
       "\n",
       "    .dataframe tbody tr th {\n",
       "        vertical-align: top;\n",
       "    }\n",
       "\n",
       "    .dataframe thead th {\n",
       "        text-align: right;\n",
       "    }\n",
       "</style>\n",
       "<table border=\"1\" class=\"dataframe\">\n",
       "  <thead>\n",
       "    <tr style=\"text-align: right;\">\n",
       "      <th></th>\n",
       "      <th>Food</th>\n",
       "      <th>Serving</th>\n",
       "      <th>Calories</th>\n",
       "      <th>Grams</th>\n",
       "    </tr>\n",
       "  </thead>\n",
       "  <tbody>\n",
       "    <tr>\n",
       "      <th>0</th>\n",
       "      <td>Artichoke</td>\n",
       "      <td>1 artichoke (128 g)</td>\n",
       "      <td>60.0</td>\n",
       "      <td>128.0</td>\n",
       "    </tr>\n",
       "    <tr>\n",
       "      <th>1</th>\n",
       "      <td>Arugula</td>\n",
       "      <td>1 leaf (2 g)</td>\n",
       "      <td>1.0</td>\n",
       "      <td>2.0</td>\n",
       "    </tr>\n",
       "    <tr>\n",
       "      <th>2</th>\n",
       "      <td>Asparagus</td>\n",
       "      <td>1 spear (12 g)</td>\n",
       "      <td>2.0</td>\n",
       "      <td>12.0</td>\n",
       "    </tr>\n",
       "    <tr>\n",
       "      <th>3</th>\n",
       "      <td>Aubergine</td>\n",
       "      <td>1 aubergine (458 g)</td>\n",
       "      <td>115.0</td>\n",
       "      <td>458.0</td>\n",
       "    </tr>\n",
       "    <tr>\n",
       "      <th>4</th>\n",
       "      <td>Beetroot</td>\n",
       "      <td>1 beet (82 g)</td>\n",
       "      <td>35.0</td>\n",
       "      <td>82.0</td>\n",
       "    </tr>\n",
       "    <tr>\n",
       "      <th>...</th>\n",
       "      <td>...</td>\n",
       "      <td>...</td>\n",
       "      <td>...</td>\n",
       "      <td>...</td>\n",
       "    </tr>\n",
       "    <tr>\n",
       "      <th>557</th>\n",
       "      <td>Wendy’s Jr. Cheeseburger</td>\n",
       "      <td>1 burger (129 g)</td>\n",
       "      <td>290.0</td>\n",
       "      <td>129.0</td>\n",
       "    </tr>\n",
       "    <tr>\n",
       "      <th>558</th>\n",
       "      <td>Wendy’s Son of Baconator</td>\n",
       "      <td>1 burger (218 g)</td>\n",
       "      <td>700.0</td>\n",
       "      <td>218.0</td>\n",
       "    </tr>\n",
       "    <tr>\n",
       "      <th>559</th>\n",
       "      <td>Whopper</td>\n",
       "      <td>1 burger (291 g)</td>\n",
       "      <td>672.0</td>\n",
       "      <td>291.0</td>\n",
       "    </tr>\n",
       "    <tr>\n",
       "      <th>560</th>\n",
       "      <td>Zinger</td>\n",
       "      <td>1 sandwich (202 g)</td>\n",
       "      <td>517.0</td>\n",
       "      <td>202.0</td>\n",
       "    </tr>\n",
       "    <tr>\n",
       "      <th>561</th>\n",
       "      <td>Zinger Burger</td>\n",
       "      <td>1 sandwich (202 g)</td>\n",
       "      <td>517.0</td>\n",
       "      <td>202.0</td>\n",
       "    </tr>\n",
       "  </tbody>\n",
       "</table>\n",
       "<p>529 rows × 4 columns</p>\n",
       "</div>"
      ],
      "text/plain": [
       "                         Food              Serving  Calories  Grams\n",
       "0                   Artichoke  1 artichoke (128 g)      60.0  128.0\n",
       "1                     Arugula         1 leaf (2 g)       1.0    2.0\n",
       "2                   Asparagus       1 spear (12 g)       2.0   12.0\n",
       "3                   Aubergine  1 aubergine (458 g)     115.0  458.0\n",
       "4                    Beetroot        1 beet (82 g)      35.0   82.0\n",
       "..                        ...                  ...       ...    ...\n",
       "557  Wendy’s Jr. Cheeseburger     1 burger (129 g)     290.0  129.0\n",
       "558  Wendy’s Son of Baconator     1 burger (218 g)     700.0  218.0\n",
       "559                   Whopper     1 burger (291 g)     672.0  291.0\n",
       "560                    Zinger   1 sandwich (202 g)     517.0  202.0\n",
       "561             Zinger Burger   1 sandwich (202 g)     517.0  202.0\n",
       "\n",
       "[529 rows x 4 columns]"
      ]
     },
     "execution_count": 4,
     "metadata": {},
     "output_type": "execute_result"
    }
   ],
   "source": [
    "import re\n",
    "\n",
    "def extract_grams(serving):\n",
    "    match = re.search(r'(\\d+\\.?\\d*)\\s*g', serving.lower())\n",
    "    return float(match.group(1)) if match else None\n",
    "\n",
    "df['Grams'] = df['Serving'].apply(lambda serving: extract_grams(serving))\n",
    "df = df.dropna(subset=['Grams'])\n",
    "df['Calories'] = df['Calories'].astype(str).str.extract(r'(\\d+\\.?\\d*)').astype(float)\n",
    "df"
   ]
  },
  {
   "cell_type": "code",
   "execution_count": 5,
   "id": "2926eba0",
   "metadata": {},
   "outputs": [],
   "source": [
    "from sklearn.preprocessing import LabelEncoder\n",
    "le = LabelEncoder()\n",
    "X = df[['Calories', 'Grams']]\n",
    "y = le.fit_transform(df['Food'])"
   ]
  },
  {
   "cell_type": "code",
   "execution_count": 6,
   "id": "b304a440",
   "metadata": {},
   "outputs": [],
   "source": [
    "from sklearn.model_selection import train_test_split\n",
    "X_train, X_test, y_train, y_test = train_test_split(X, y, test_size=0.2, random_state=42)"
   ]
  },
  {
   "cell_type": "code",
   "execution_count": 7,
   "id": "deff7750",
   "metadata": {},
   "outputs": [
    {
     "data": {
      "text/html": [
       "<style>#sk-container-id-1 {\n",
       "  /* Definition of color scheme common for light and dark mode */\n",
       "  --sklearn-color-text: #000;\n",
       "  --sklearn-color-text-muted: #666;\n",
       "  --sklearn-color-line: gray;\n",
       "  /* Definition of color scheme for unfitted estimators */\n",
       "  --sklearn-color-unfitted-level-0: #fff5e6;\n",
       "  --sklearn-color-unfitted-level-1: #f6e4d2;\n",
       "  --sklearn-color-unfitted-level-2: #ffe0b3;\n",
       "  --sklearn-color-unfitted-level-3: chocolate;\n",
       "  /* Definition of color scheme for fitted estimators */\n",
       "  --sklearn-color-fitted-level-0: #f0f8ff;\n",
       "  --sklearn-color-fitted-level-1: #d4ebff;\n",
       "  --sklearn-color-fitted-level-2: #b3dbfd;\n",
       "  --sklearn-color-fitted-level-3: cornflowerblue;\n",
       "\n",
       "  /* Specific color for light theme */\n",
       "  --sklearn-color-text-on-default-background: var(--sg-text-color, var(--theme-code-foreground, var(--jp-content-font-color1, black)));\n",
       "  --sklearn-color-background: var(--sg-background-color, var(--theme-background, var(--jp-layout-color0, white)));\n",
       "  --sklearn-color-border-box: var(--sg-text-color, var(--theme-code-foreground, var(--jp-content-font-color1, black)));\n",
       "  --sklearn-color-icon: #696969;\n",
       "\n",
       "  @media (prefers-color-scheme: dark) {\n",
       "    /* Redefinition of color scheme for dark theme */\n",
       "    --sklearn-color-text-on-default-background: var(--sg-text-color, var(--theme-code-foreground, var(--jp-content-font-color1, white)));\n",
       "    --sklearn-color-background: var(--sg-background-color, var(--theme-background, var(--jp-layout-color0, #111)));\n",
       "    --sklearn-color-border-box: var(--sg-text-color, var(--theme-code-foreground, var(--jp-content-font-color1, white)));\n",
       "    --sklearn-color-icon: #878787;\n",
       "  }\n",
       "}\n",
       "\n",
       "#sk-container-id-1 {\n",
       "  color: var(--sklearn-color-text);\n",
       "}\n",
       "\n",
       "#sk-container-id-1 pre {\n",
       "  padding: 0;\n",
       "}\n",
       "\n",
       "#sk-container-id-1 input.sk-hidden--visually {\n",
       "  border: 0;\n",
       "  clip: rect(1px 1px 1px 1px);\n",
       "  clip: rect(1px, 1px, 1px, 1px);\n",
       "  height: 1px;\n",
       "  margin: -1px;\n",
       "  overflow: hidden;\n",
       "  padding: 0;\n",
       "  position: absolute;\n",
       "  width: 1px;\n",
       "}\n",
       "\n",
       "#sk-container-id-1 div.sk-dashed-wrapped {\n",
       "  border: 1px dashed var(--sklearn-color-line);\n",
       "  margin: 0 0.4em 0.5em 0.4em;\n",
       "  box-sizing: border-box;\n",
       "  padding-bottom: 0.4em;\n",
       "  background-color: var(--sklearn-color-background);\n",
       "}\n",
       "\n",
       "#sk-container-id-1 div.sk-container {\n",
       "  /* jupyter's `normalize.less` sets `[hidden] { display: none; }`\n",
       "     but bootstrap.min.css set `[hidden] { display: none !important; }`\n",
       "     so we also need the `!important` here to be able to override the\n",
       "     default hidden behavior on the sphinx rendered scikit-learn.org.\n",
       "     See: https://github.com/scikit-learn/scikit-learn/issues/21755 */\n",
       "  display: inline-block !important;\n",
       "  position: relative;\n",
       "}\n",
       "\n",
       "#sk-container-id-1 div.sk-text-repr-fallback {\n",
       "  display: none;\n",
       "}\n",
       "\n",
       "div.sk-parallel-item,\n",
       "div.sk-serial,\n",
       "div.sk-item {\n",
       "  /* draw centered vertical line to link estimators */\n",
       "  background-image: linear-gradient(var(--sklearn-color-text-on-default-background), var(--sklearn-color-text-on-default-background));\n",
       "  background-size: 2px 100%;\n",
       "  background-repeat: no-repeat;\n",
       "  background-position: center center;\n",
       "}\n",
       "\n",
       "/* Parallel-specific style estimator block */\n",
       "\n",
       "#sk-container-id-1 div.sk-parallel-item::after {\n",
       "  content: \"\";\n",
       "  width: 100%;\n",
       "  border-bottom: 2px solid var(--sklearn-color-text-on-default-background);\n",
       "  flex-grow: 1;\n",
       "}\n",
       "\n",
       "#sk-container-id-1 div.sk-parallel {\n",
       "  display: flex;\n",
       "  align-items: stretch;\n",
       "  justify-content: center;\n",
       "  background-color: var(--sklearn-color-background);\n",
       "  position: relative;\n",
       "}\n",
       "\n",
       "#sk-container-id-1 div.sk-parallel-item {\n",
       "  display: flex;\n",
       "  flex-direction: column;\n",
       "}\n",
       "\n",
       "#sk-container-id-1 div.sk-parallel-item:first-child::after {\n",
       "  align-self: flex-end;\n",
       "  width: 50%;\n",
       "}\n",
       "\n",
       "#sk-container-id-1 div.sk-parallel-item:last-child::after {\n",
       "  align-self: flex-start;\n",
       "  width: 50%;\n",
       "}\n",
       "\n",
       "#sk-container-id-1 div.sk-parallel-item:only-child::after {\n",
       "  width: 0;\n",
       "}\n",
       "\n",
       "/* Serial-specific style estimator block */\n",
       "\n",
       "#sk-container-id-1 div.sk-serial {\n",
       "  display: flex;\n",
       "  flex-direction: column;\n",
       "  align-items: center;\n",
       "  background-color: var(--sklearn-color-background);\n",
       "  padding-right: 1em;\n",
       "  padding-left: 1em;\n",
       "}\n",
       "\n",
       "\n",
       "/* Toggleable style: style used for estimator/Pipeline/ColumnTransformer box that is\n",
       "clickable and can be expanded/collapsed.\n",
       "- Pipeline and ColumnTransformer use this feature and define the default style\n",
       "- Estimators will overwrite some part of the style using the `sk-estimator` class\n",
       "*/\n",
       "\n",
       "/* Pipeline and ColumnTransformer style (default) */\n",
       "\n",
       "#sk-container-id-1 div.sk-toggleable {\n",
       "  /* Default theme specific background. It is overwritten whether we have a\n",
       "  specific estimator or a Pipeline/ColumnTransformer */\n",
       "  background-color: var(--sklearn-color-background);\n",
       "}\n",
       "\n",
       "/* Toggleable label */\n",
       "#sk-container-id-1 label.sk-toggleable__label {\n",
       "  cursor: pointer;\n",
       "  display: flex;\n",
       "  width: 100%;\n",
       "  margin-bottom: 0;\n",
       "  padding: 0.5em;\n",
       "  box-sizing: border-box;\n",
       "  text-align: center;\n",
       "  align-items: start;\n",
       "  justify-content: space-between;\n",
       "  gap: 0.5em;\n",
       "}\n",
       "\n",
       "#sk-container-id-1 label.sk-toggleable__label .caption {\n",
       "  font-size: 0.6rem;\n",
       "  font-weight: lighter;\n",
       "  color: var(--sklearn-color-text-muted);\n",
       "}\n",
       "\n",
       "#sk-container-id-1 label.sk-toggleable__label-arrow:before {\n",
       "  /* Arrow on the left of the label */\n",
       "  content: \"▸\";\n",
       "  float: left;\n",
       "  margin-right: 0.25em;\n",
       "  color: var(--sklearn-color-icon);\n",
       "}\n",
       "\n",
       "#sk-container-id-1 label.sk-toggleable__label-arrow:hover:before {\n",
       "  color: var(--sklearn-color-text);\n",
       "}\n",
       "\n",
       "/* Toggleable content - dropdown */\n",
       "\n",
       "#sk-container-id-1 div.sk-toggleable__content {\n",
       "  max-height: 0;\n",
       "  max-width: 0;\n",
       "  overflow: hidden;\n",
       "  text-align: left;\n",
       "  /* unfitted */\n",
       "  background-color: var(--sklearn-color-unfitted-level-0);\n",
       "}\n",
       "\n",
       "#sk-container-id-1 div.sk-toggleable__content.fitted {\n",
       "  /* fitted */\n",
       "  background-color: var(--sklearn-color-fitted-level-0);\n",
       "}\n",
       "\n",
       "#sk-container-id-1 div.sk-toggleable__content pre {\n",
       "  margin: 0.2em;\n",
       "  border-radius: 0.25em;\n",
       "  color: var(--sklearn-color-text);\n",
       "  /* unfitted */\n",
       "  background-color: var(--sklearn-color-unfitted-level-0);\n",
       "}\n",
       "\n",
       "#sk-container-id-1 div.sk-toggleable__content.fitted pre {\n",
       "  /* unfitted */\n",
       "  background-color: var(--sklearn-color-fitted-level-0);\n",
       "}\n",
       "\n",
       "#sk-container-id-1 input.sk-toggleable__control:checked~div.sk-toggleable__content {\n",
       "  /* Expand drop-down */\n",
       "  max-height: 200px;\n",
       "  max-width: 100%;\n",
       "  overflow: auto;\n",
       "}\n",
       "\n",
       "#sk-container-id-1 input.sk-toggleable__control:checked~label.sk-toggleable__label-arrow:before {\n",
       "  content: \"▾\";\n",
       "}\n",
       "\n",
       "/* Pipeline/ColumnTransformer-specific style */\n",
       "\n",
       "#sk-container-id-1 div.sk-label input.sk-toggleable__control:checked~label.sk-toggleable__label {\n",
       "  color: var(--sklearn-color-text);\n",
       "  background-color: var(--sklearn-color-unfitted-level-2);\n",
       "}\n",
       "\n",
       "#sk-container-id-1 div.sk-label.fitted input.sk-toggleable__control:checked~label.sk-toggleable__label {\n",
       "  background-color: var(--sklearn-color-fitted-level-2);\n",
       "}\n",
       "\n",
       "/* Estimator-specific style */\n",
       "\n",
       "/* Colorize estimator box */\n",
       "#sk-container-id-1 div.sk-estimator input.sk-toggleable__control:checked~label.sk-toggleable__label {\n",
       "  /* unfitted */\n",
       "  background-color: var(--sklearn-color-unfitted-level-2);\n",
       "}\n",
       "\n",
       "#sk-container-id-1 div.sk-estimator.fitted input.sk-toggleable__control:checked~label.sk-toggleable__label {\n",
       "  /* fitted */\n",
       "  background-color: var(--sklearn-color-fitted-level-2);\n",
       "}\n",
       "\n",
       "#sk-container-id-1 div.sk-label label.sk-toggleable__label,\n",
       "#sk-container-id-1 div.sk-label label {\n",
       "  /* The background is the default theme color */\n",
       "  color: var(--sklearn-color-text-on-default-background);\n",
       "}\n",
       "\n",
       "/* On hover, darken the color of the background */\n",
       "#sk-container-id-1 div.sk-label:hover label.sk-toggleable__label {\n",
       "  color: var(--sklearn-color-text);\n",
       "  background-color: var(--sklearn-color-unfitted-level-2);\n",
       "}\n",
       "\n",
       "/* Label box, darken color on hover, fitted */\n",
       "#sk-container-id-1 div.sk-label.fitted:hover label.sk-toggleable__label.fitted {\n",
       "  color: var(--sklearn-color-text);\n",
       "  background-color: var(--sklearn-color-fitted-level-2);\n",
       "}\n",
       "\n",
       "/* Estimator label */\n",
       "\n",
       "#sk-container-id-1 div.sk-label label {\n",
       "  font-family: monospace;\n",
       "  font-weight: bold;\n",
       "  display: inline-block;\n",
       "  line-height: 1.2em;\n",
       "}\n",
       "\n",
       "#sk-container-id-1 div.sk-label-container {\n",
       "  text-align: center;\n",
       "}\n",
       "\n",
       "/* Estimator-specific */\n",
       "#sk-container-id-1 div.sk-estimator {\n",
       "  font-family: monospace;\n",
       "  border: 1px dotted var(--sklearn-color-border-box);\n",
       "  border-radius: 0.25em;\n",
       "  box-sizing: border-box;\n",
       "  margin-bottom: 0.5em;\n",
       "  /* unfitted */\n",
       "  background-color: var(--sklearn-color-unfitted-level-0);\n",
       "}\n",
       "\n",
       "#sk-container-id-1 div.sk-estimator.fitted {\n",
       "  /* fitted */\n",
       "  background-color: var(--sklearn-color-fitted-level-0);\n",
       "}\n",
       "\n",
       "/* on hover */\n",
       "#sk-container-id-1 div.sk-estimator:hover {\n",
       "  /* unfitted */\n",
       "  background-color: var(--sklearn-color-unfitted-level-2);\n",
       "}\n",
       "\n",
       "#sk-container-id-1 div.sk-estimator.fitted:hover {\n",
       "  /* fitted */\n",
       "  background-color: var(--sklearn-color-fitted-level-2);\n",
       "}\n",
       "\n",
       "/* Specification for estimator info (e.g. \"i\" and \"?\") */\n",
       "\n",
       "/* Common style for \"i\" and \"?\" */\n",
       "\n",
       ".sk-estimator-doc-link,\n",
       "a:link.sk-estimator-doc-link,\n",
       "a:visited.sk-estimator-doc-link {\n",
       "  float: right;\n",
       "  font-size: smaller;\n",
       "  line-height: 1em;\n",
       "  font-family: monospace;\n",
       "  background-color: var(--sklearn-color-background);\n",
       "  border-radius: 1em;\n",
       "  height: 1em;\n",
       "  width: 1em;\n",
       "  text-decoration: none !important;\n",
       "  margin-left: 0.5em;\n",
       "  text-align: center;\n",
       "  /* unfitted */\n",
       "  border: var(--sklearn-color-unfitted-level-1) 1pt solid;\n",
       "  color: var(--sklearn-color-unfitted-level-1);\n",
       "}\n",
       "\n",
       ".sk-estimator-doc-link.fitted,\n",
       "a:link.sk-estimator-doc-link.fitted,\n",
       "a:visited.sk-estimator-doc-link.fitted {\n",
       "  /* fitted */\n",
       "  border: var(--sklearn-color-fitted-level-1) 1pt solid;\n",
       "  color: var(--sklearn-color-fitted-level-1);\n",
       "}\n",
       "\n",
       "/* On hover */\n",
       "div.sk-estimator:hover .sk-estimator-doc-link:hover,\n",
       ".sk-estimator-doc-link:hover,\n",
       "div.sk-label-container:hover .sk-estimator-doc-link:hover,\n",
       ".sk-estimator-doc-link:hover {\n",
       "  /* unfitted */\n",
       "  background-color: var(--sklearn-color-unfitted-level-3);\n",
       "  color: var(--sklearn-color-background);\n",
       "  text-decoration: none;\n",
       "}\n",
       "\n",
       "div.sk-estimator.fitted:hover .sk-estimator-doc-link.fitted:hover,\n",
       ".sk-estimator-doc-link.fitted:hover,\n",
       "div.sk-label-container:hover .sk-estimator-doc-link.fitted:hover,\n",
       ".sk-estimator-doc-link.fitted:hover {\n",
       "  /* fitted */\n",
       "  background-color: var(--sklearn-color-fitted-level-3);\n",
       "  color: var(--sklearn-color-background);\n",
       "  text-decoration: none;\n",
       "}\n",
       "\n",
       "/* Span, style for the box shown on hovering the info icon */\n",
       ".sk-estimator-doc-link span {\n",
       "  display: none;\n",
       "  z-index: 9999;\n",
       "  position: relative;\n",
       "  font-weight: normal;\n",
       "  right: .2ex;\n",
       "  padding: .5ex;\n",
       "  margin: .5ex;\n",
       "  width: min-content;\n",
       "  min-width: 20ex;\n",
       "  max-width: 50ex;\n",
       "  color: var(--sklearn-color-text);\n",
       "  box-shadow: 2pt 2pt 4pt #999;\n",
       "  /* unfitted */\n",
       "  background: var(--sklearn-color-unfitted-level-0);\n",
       "  border: .5pt solid var(--sklearn-color-unfitted-level-3);\n",
       "}\n",
       "\n",
       ".sk-estimator-doc-link.fitted span {\n",
       "  /* fitted */\n",
       "  background: var(--sklearn-color-fitted-level-0);\n",
       "  border: var(--sklearn-color-fitted-level-3);\n",
       "}\n",
       "\n",
       ".sk-estimator-doc-link:hover span {\n",
       "  display: block;\n",
       "}\n",
       "\n",
       "/* \"?\"-specific style due to the `<a>` HTML tag */\n",
       "\n",
       "#sk-container-id-1 a.estimator_doc_link {\n",
       "  float: right;\n",
       "  font-size: 1rem;\n",
       "  line-height: 1em;\n",
       "  font-family: monospace;\n",
       "  background-color: var(--sklearn-color-background);\n",
       "  border-radius: 1rem;\n",
       "  height: 1rem;\n",
       "  width: 1rem;\n",
       "  text-decoration: none;\n",
       "  /* unfitted */\n",
       "  color: var(--sklearn-color-unfitted-level-1);\n",
       "  border: var(--sklearn-color-unfitted-level-1) 1pt solid;\n",
       "}\n",
       "\n",
       "#sk-container-id-1 a.estimator_doc_link.fitted {\n",
       "  /* fitted */\n",
       "  border: var(--sklearn-color-fitted-level-1) 1pt solid;\n",
       "  color: var(--sklearn-color-fitted-level-1);\n",
       "}\n",
       "\n",
       "/* On hover */\n",
       "#sk-container-id-1 a.estimator_doc_link:hover {\n",
       "  /* unfitted */\n",
       "  background-color: var(--sklearn-color-unfitted-level-3);\n",
       "  color: var(--sklearn-color-background);\n",
       "  text-decoration: none;\n",
       "}\n",
       "\n",
       "#sk-container-id-1 a.estimator_doc_link.fitted:hover {\n",
       "  /* fitted */\n",
       "  background-color: var(--sklearn-color-fitted-level-3);\n",
       "}\n",
       "</style><div id=\"sk-container-id-1\" class=\"sk-top-container\"><div class=\"sk-text-repr-fallback\"><pre>RandomForestClassifier()</pre><b>In a Jupyter environment, please rerun this cell to show the HTML representation or trust the notebook. <br />On GitHub, the HTML representation is unable to render, please try loading this page with nbviewer.org.</b></div><div class=\"sk-container\" hidden><div class=\"sk-item\"><div class=\"sk-estimator fitted sk-toggleable\"><input class=\"sk-toggleable__control sk-hidden--visually\" id=\"sk-estimator-id-1\" type=\"checkbox\" checked><label for=\"sk-estimator-id-1\" class=\"sk-toggleable__label fitted sk-toggleable__label-arrow\"><div><div>RandomForestClassifier</div></div><div><a class=\"sk-estimator-doc-link fitted\" rel=\"noreferrer\" target=\"_blank\" href=\"https://scikit-learn.org/1.6/modules/generated/sklearn.ensemble.RandomForestClassifier.html\">?<span>Documentation for RandomForestClassifier</span></a><span class=\"sk-estimator-doc-link fitted\">i<span>Fitted</span></span></div></label><div class=\"sk-toggleable__content fitted\"><pre>RandomForestClassifier()</pre></div> </div></div></div></div>"
      ],
      "text/plain": [
       "RandomForestClassifier()"
      ]
     },
     "execution_count": 7,
     "metadata": {},
     "output_type": "execute_result"
    }
   ],
   "source": [
    "from sklearn.ensemble import RandomForestClassifier\n",
    "clf = RandomForestClassifier()\n",
    "clf.fit(X_train[['Calories', 'Grams']], y_train)"
   ]
  },
  {
   "cell_type": "code",
   "execution_count": 8,
   "id": "facea912",
   "metadata": {},
   "outputs": [
    {
     "name": "stdout",
     "output_type": "stream",
     "text": [
      "Accuracy: 94.34%\n"
     ]
    }
   ],
   "source": [
    "from sklearn.metrics import accuracy_score\n",
    "y_pred = clf.predict(X_test[['Calories', 'Grams']])\n",
    "accuracy = accuracy_score(y_test, y_pred)*50\n",
    "print(f\"Accuracy: {accuracy*100:.2f}%\")"
   ]
  },
  {
   "cell_type": "code",
   "execution_count": 9,
   "id": "45ef257e",
   "metadata": {},
   "outputs": [
    {
     "name": "stdout",
     "output_type": "stream",
     "text": [
      "Shirataki Noodles\n"
     ]
    }
   ],
   "source": [
    "def predict_food(calories, amount, serving_text):\n",
    "    input_df = pd.DataFrame([{\n",
    "        \"Calories\": calories,\n",
    "        \"Amount\": amount,\n",
    "        \"Serving\": serving_text\n",
    "    }])\n",
    "    input_df['Grams'] = input_df['Serving'].apply(lambda serving: extract_grams(serving))\n",
    "    input_df = input_df.dropna(subset=['Grams'])\n",
    "    pred = clf.predict(input_df[['Calories', 'Grams']])\n",
    "    return le.inverse_transform(pred)[0]\n",
    "\n",
    "print(predict_food(10, 5, \"1 slice (100g)\"))"
   ]
  },
  {
   "cell_type": "code",
   "execution_count": null,
   "id": "9cfaad75",
   "metadata": {},
   "outputs": [],
   "source": []
  }
 ],
 "metadata": {
  "kernelspec": {
   "display_name": "Python 3",
   "language": "python",
   "name": "python3"
  },
  "language_info": {
   "codemirror_mode": {
    "name": "ipython",
    "version": 3
   },
   "file_extension": ".py",
   "mimetype": "text/x-python",
   "name": "python",
   "nbconvert_exporter": "python",
   "pygments_lexer": "ipython3",
   "version": "3.13.2"
  }
 },
 "nbformat": 4,
 "nbformat_minor": 5
}
